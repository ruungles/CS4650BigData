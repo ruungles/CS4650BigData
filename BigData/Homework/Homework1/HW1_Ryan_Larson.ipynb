{
 "cells": [
  {
   "cell_type": "code",
   "execution_count": 1,
   "id": "4bceb474-ae3b-4534-97e3-194ce1696850",
   "metadata": {},
   "outputs": [
    {
     "name": "stdout",
     "output_type": "stream",
     "text": [
      "Overwriting wind_Direction.py\n"
     ]
    }
   ],
   "source": [
    "%%file wind_Direction.py\n",
    "\n",
    "import re\n",
    "import json\n",
    "from mrjob.job import MRJob\n",
    "\n",
    "QUALITY_RE = re.compile(r\"[01459]\")\n",
    "\n",
    "class WindDirection(MRJob):\n",
    "\n",
    "    def mapper(self, _, line):\n",
    "        val = line.strip()\n",
    "        (wind_direct, wind_q, temp, temp_q) = (val[60:63],val[63:64], val[87:92], val[92:93])\n",
    "        if (temp != \"+9999\" and re.match(QUALITY_RE,temp_q)):\n",
    "            if(wind_direct != \"999\" and re.match(QUALITY_RE,wind_q)):\n",
    "                yield wind_direct, {'temperature': int(temp), \"count\": 1}\n",
    "\n",
    "    def reducer (self, key, values):\n",
    "        count = 0\n",
    "        max_temp = float('-inf')\n",
    "        min_temp = float('inf')\n",
    "        for x in values:\n",
    "            if x[\"temperature\"]> max_temp:\n",
    "                max_temp = x[\"temperature\"]\n",
    "            if x[\"temperature\"]< min_temp:\n",
    "                min_temp = x[\"temperature\"]\n",
    "            count+= x ['count']\n",
    "        yield key, {\"low\": min_temp, \"high\": max_temp, \"count\": count}\n",
    "\n",
    "\n",
    "if __name__ == '__main__':\n",
    "    WindDirection.run()"
   ]
  },
  {
   "cell_type": "code",
   "execution_count": 3,
   "id": "9f4b024f-18e9-4db0-90c2-4a8cef89cb5f",
   "metadata": {},
   "outputs": [
    {
     "name": "stdout",
     "output_type": "stream",
     "text": [
      "\"020\"\t{\"low\":-272,\"high\":317,\"count\":582}\n",
      "\"050\"\t{\"low\":-322,\"high\":306,\"count\":1039}\n",
      "\"070\"\t{\"low\":-333,\"high\":278,\"count\":502}\n",
      "\"090\"\t{\"low\":-267,\"high\":272,\"count\":567}\n",
      "\"110\"\t{\"low\":-239,\"high\":278,\"count\":296}\n",
      "\"140\"\t{\"low\":-328,\"high\":278,\"count\":1005}\n",
      "\"160\"\t{\"low\":-239,\"high\":289,\"count\":647}\n",
      "\"180\"\t{\"low\":-250,\"high\":294,\"count\":879}\n",
      "\"200\"\t{\"low\":-183,\"high\":300,\"count\":688}\n",
      "\"230\"\t{\"low\":-228,\"high\":283,\"count\":1488}\n",
      "\"250\"\t{\"low\":-222,\"high\":311,\"count\":604}\n",
      "\"270\"\t{\"low\":-211,\"high\":278,\"count\":931}\n",
      "\"290\"\t{\"low\":-328,\"high\":306,\"count\":379}\n",
      "\"320\"\t{\"low\":-311,\"high\":306,\"count\":1152}\n",
      "\"340\"\t{\"low\":-300,\"high\":311,\"count\":427}\n",
      "\"360\"\t{\"low\":-267,\"high\":289,\"count\":888}\n"
     ]
    },
    {
     "name": "stderr",
     "output_type": "stream",
     "text": [
      "No configs found; falling back on auto-configuration\n",
      "No configs specified for inline runner\n",
      "Creating temp directory C:\\Users\\rlars\\AppData\\Local\\Temp\\wind_Direction.rlars.20241006.201526.963606\n",
      "Running step 1 of 1...\n",
      "job output is in C:\\Users\\rlars\\AppData\\Local\\Temp\\wind_Direction.rlars.20241006.201526.963606\\output\n",
      "Streaming final output from C:\\Users\\rlars\\AppData\\Local\\Temp\\wind_Direction.rlars.20241006.201526.963606\\output...\n",
      "Removing temp directory C:\\Users\\rlars\\AppData\\Local\\Temp\\wind_Direction.rlars.20241006.201526.963606...\n"
     ]
    }
   ],
   "source": [
    "!python wind_Direction.py \"C:/Users/rlars/OneDrive/Desktop/BigData/Homework/Homework1/1901\" \"C:/Users/rlars/OneDrive/Desktop/BigData/Homework/Homework1/1902\""
   ]
  },
  {
   "cell_type": "code",
   "execution_count": null,
   "id": "122e8480-c1b2-4a7e-9aa7-9524570b6e6e",
   "metadata": {},
   "outputs": [],
   "source": []
  }
 ],
 "metadata": {
  "kernelspec": {
   "display_name": "Python 3 (ipykernel)",
   "language": "python",
   "name": "python3"
  },
  "language_info": {
   "codemirror_mode": {
    "name": "ipython",
    "version": 3
   },
   "file_extension": ".py",
   "mimetype": "text/x-python",
   "name": "python",
   "nbconvert_exporter": "python",
   "pygments_lexer": "ipython3",
   "version": "3.12.3"
  }
 },
 "nbformat": 4,
 "nbformat_minor": 5
}
