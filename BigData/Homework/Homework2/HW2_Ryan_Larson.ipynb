{
 "cells": [
  {
   "cell_type": "code",
   "execution_count": 83,
   "id": "7bd26a70-62fe-4db0-b5cc-0d379f4c2dc7",
   "metadata": {},
   "outputs": [
    {
     "name": "stdout",
     "output_type": "stream",
     "text": [
      "Overwriting two_Dimensional_Array_TaskOne.py\n"
     ]
    }
   ],
   "source": [
    "%%file two_Dimensional_Array_TaskOne.py\n",
    "from mrjob.job import MRJob\n",
    "\n",
    "class Two_Dimensional(MRJob):\n",
    "\n",
    "    def mapper(self, _, line):\n",
    "        try:\n",
    "            column, row, value = line.split(',')\n",
    "            value = int(value)\n",
    "            yield column, ('col', value)  # Yield column data\n",
    "            yield row, ('row', value)      # Yield row data\n",
    "        except ValueError:\n",
    "            pass  # Skip malformed lines\n",
    "\n",
    "    def reducer(self, key, values):\n",
    "        max_value = None\n",
    "        min_value = None\n",
    "        \n",
    "        for value_type, value in values:\n",
    "            if value_type == 'col':\n",
    "                if max_value is None or value > max_value:\n",
    "                    max_value = value\n",
    "            elif value_type == 'row':\n",
    "                if min_value is None or value < min_value:\n",
    "                    min_value = value\n",
    "                    \n",
    "        if key[0] in 'ABCDEFGHIJ':\n",
    "            yield key, max_value\n",
    "        else:  # Rows should be K-T\n",
    "            yield key, min_value\n",
    "\n",
    "if __name__ == '__main__':\n",
    "    Two_Dimensional.run()\n",
    "\n"
   ]
  },
  {
   "cell_type": "code",
   "execution_count": 85,
   "id": "9e8785bc-ad6f-421b-8b3a-4f6d66d8c2d0",
   "metadata": {},
   "outputs": [
    {
     "name": "stdout",
     "output_type": "stream",
     "text": [
      "\"A\"\t994\n",
      "\"B\"\t999\n",
      "\"C\"\t987\n",
      "\"D\"\t995\n",
      "\"E\"\t998\n",
      "\"F\"\t997\n",
      "\"G\"\t997\n",
      "\"H\"\t997\n",
      "\"I\"\t995\n",
      "\"J\"\t992\n",
      "\"K\"\t0\n",
      "\"L\"\t3\n",
      "\"M\"\t0\n",
      "\"N\"\t13\n",
      "\"O\"\t1\n",
      "\"P\"\t12\n",
      "\"Q\"\t0\n",
      "\"R\"\t2\n",
      "\"S\"\t5\n",
      "\"T\"\t2\n"
     ]
    },
    {
     "name": "stderr",
     "output_type": "stream",
     "text": [
      "No configs found; falling back on auto-configuration\n",
      "No configs specified for inline runner\n",
      "Creating temp directory C:\\Users\\rlars\\AppData\\Local\\Temp\\two_Dimensional_Array_TaskOne.rlars.20241006.223718.192720\n",
      "Running step 1 of 1...\n",
      "job output is in C:\\Users\\rlars\\AppData\\Local\\Temp\\two_Dimensional_Array_TaskOne.rlars.20241006.223718.192720\\output\n",
      "Streaming final output from C:\\Users\\rlars\\AppData\\Local\\Temp\\two_Dimensional_Array_TaskOne.rlars.20241006.223718.192720\\output...\n",
      "Removing temp directory C:\\Users\\rlars\\AppData\\Local\\Temp\\two_Dimensional_Array_TaskOne.rlars.20241006.223718.192720...\n"
     ]
    }
   ],
   "source": [
    "!python two_Dimensional_Array_TaskOne.py \"C:/Users/rlars/OneDrive/Desktop/BigData/Homework/Homework2/cs4650hw1.dat\""
   ]
  },
  {
   "cell_type": "code",
   "execution_count": 87,
   "id": "fb34401b-1a95-4848-bf43-aece9a975a6c",
   "metadata": {},
   "outputs": [
    {
     "name": "stdout",
     "output_type": "stream",
     "text": [
      "Overwriting two_Dimensional_Array_TaskTwo.py\n"
     ]
    }
   ],
   "source": [
    "%%file two_Dimensional_Array_TaskTwo.py\n",
    "from mrjob.job import MRJob\n",
    "\n",
    "class Two_Dimensional(MRJob):\n",
    "\n",
    "    def mapper(self, _, line):\n",
    "        try:\n",
    "            column, row, value = line.split(',')\n",
    "            value = int(value)\n",
    "            yield column, {'value_type': 'col','value': value, 'value_location': row}  # Yield column data\n",
    "            yield row, {'value_type': 'row','value': value, 'value_location': column}      # Yield row data\n",
    "        except ValueError:\n",
    "            pass  # Skip malformed lines\n",
    "\n",
    "    def reducer(self, key, values):\n",
    "        max_value = None\n",
    "        min_value = None\n",
    "        row_location = None\n",
    "        column_location = None\n",
    "        \n",
    "        for value in values:\n",
    "            if value['value_type'] == 'col':\n",
    "                if max_value is None or value['value'] > max_value:\n",
    "                    max_value = value['value']\n",
    "                    row_location = value['value_location']\n",
    "            elif value['value_type'] == 'row':\n",
    "                if min_value is None or value['value'] < min_value:\n",
    "                    min_value = value['value']\n",
    "                    column_location = value['value_location']\n",
    "                    \n",
    "        if key[0] in 'ABCDEFGHIJ':\n",
    "            yield key, {'value': max_value, 'row_location':row_location}\n",
    "        else:  # Rows should be K-T\n",
    "            yield key, {'value':min_value, 'column_location': column_location}\n",
    "\n",
    "if __name__ == '__main__':\n",
    "    Two_Dimensional.run()\n"
   ]
  },
  {
   "cell_type": "code",
   "execution_count": 89,
   "id": "48800c95-3a8d-4737-984c-fa86827eb2b5",
   "metadata": {},
   "outputs": [
    {
     "name": "stdout",
     "output_type": "stream",
     "text": [
      "\"A\"\t{\"value\":994,\"row_location\":\"R\"}\n",
      "\"B\"\t{\"value\":999,\"row_location\":\"N\"}\n",
      "\"C\"\t{\"value\":987,\"row_location\":\"S\"}\n",
      "\"D\"\t{\"value\":995,\"row_location\":\"M\"}\n",
      "\"E\"\t{\"value\":998,\"row_location\":\"N\"}\n",
      "\"F\"\t{\"value\":997,\"row_location\":\"M\"}\n",
      "\"G\"\t{\"value\":997,\"row_location\":\"M\"}\n",
      "\"H\"\t{\"value\":997,\"row_location\":\"P\"}\n",
      "\"I\"\t{\"value\":995,\"row_location\":\"S\"}\n",
      "\"J\"\t{\"value\":992,\"row_location\":\"K\"}\n",
      "\"K\"\t{\"value\":0,\"column_location\":\"H\"}\n",
      "\"L\"\t{\"value\":3,\"column_location\":\"H\"}\n",
      "\"M\"\t{\"value\":0,\"column_location\":\"E\"}\n",
      "\"N\"\t{\"value\":13,\"column_location\":\"B\"}\n",
      "\"O\"\t{\"value\":1,\"column_location\":\"H\"}\n",
      "\"P\"\t{\"value\":12,\"column_location\":\"B\"}\n",
      "\"Q\"\t{\"value\":0,\"column_location\":\"C\"}\n",
      "\"R\"\t{\"value\":2,\"column_location\":\"F\"}\n",
      "\"S\"\t{\"value\":5,\"column_location\":\"I\"}\n",
      "\"T\"\t{\"value\":2,\"column_location\":\"G\"}\n"
     ]
    },
    {
     "name": "stderr",
     "output_type": "stream",
     "text": [
      "No configs found; falling back on auto-configuration\n",
      "No configs specified for inline runner\n",
      "Creating temp directory C:\\Users\\rlars\\AppData\\Local\\Temp\\two_Dimensional_Array_TaskTwo.rlars.20241006.223726.289953\n",
      "Running step 1 of 1...\n",
      "job output is in C:\\Users\\rlars\\AppData\\Local\\Temp\\two_Dimensional_Array_TaskTwo.rlars.20241006.223726.289953\\output\n",
      "Streaming final output from C:\\Users\\rlars\\AppData\\Local\\Temp\\two_Dimensional_Array_TaskTwo.rlars.20241006.223726.289953\\output...\n",
      "Removing temp directory C:\\Users\\rlars\\AppData\\Local\\Temp\\two_Dimensional_Array_TaskTwo.rlars.20241006.223726.289953...\n"
     ]
    }
   ],
   "source": [
    "!python two_Dimensional_Array_TaskTwo.py \"C:/Users/rlars/OneDrive/Desktop/BigData/Homework/Homework2/cs4650hw1.dat\""
   ]
  },
  {
   "cell_type": "code",
   "execution_count": 91,
   "id": "d09d41a9-0dae-40b7-8b73-2234e9b5c18b",
   "metadata": {},
   "outputs": [
    {
     "name": "stdout",
     "output_type": "stream",
     "text": [
      "Overwriting two_Dimensional_Array_TaskThree.py\n"
     ]
    }
   ],
   "source": [
    "%%file two_Dimensional_Array_TaskThree.py\n",
    "from mrjob.job import MRJob\n",
    "\n",
    "class Two_Dimensional(MRJob):\n",
    "\n",
    "    def mapper(self, _, line):\n",
    "        try:\n",
    "            column, row, value = line.split(',')\n",
    "            value = int(value)\n",
    "            yield column, {'value_type': 'col','value': value, 'value_location': row}  # Yield column data\n",
    "            yield row, {'value_type': 'row','value': value, 'value_location': column}      # Yield row data\n",
    "        except ValueError:\n",
    "            pass  # Skip malformed lines\n",
    "\n",
    "    def reducer(self, key, values):\n",
    "        max_value = None\n",
    "        min_value = None\n",
    "        row_locations = []\n",
    "        column_locations = []\n",
    "        \n",
    "        for value in values:\n",
    "            if value['value_type'] == 'col':\n",
    "                if max_value is None or value['value'] > max_value:\n",
    "                    max_value = value['value']\n",
    "                    row_locations = [value['value_location']]  # Reset to new max location\n",
    "                elif value['value'] == max_value:\n",
    "                    row_locations.append(value['value_location'])\n",
    "                    \n",
    "            elif value['value_type'] == 'row':\n",
    "                if min_value is None or value['value'] < min_value:\n",
    "                    min_value = value['value']\n",
    "                    column_locations = [value['value_location']]  # Reset to new min location\n",
    "                elif value['value'] == min_value:\n",
    "                    column_locations.append(value['value_location'])\n",
    "                    \n",
    "        if key[0] in 'ABCDEFGHIJ':\n",
    "            yield key, {'value': max_value, 'row_location':row_locations}\n",
    "        else:  # Rows should be K-T\n",
    "            yield key, {'value':min_value, 'column_location': column_locations}\n",
    "\n",
    "if __name__ == '__main__':\n",
    "    Two_Dimensional.run()\n"
   ]
  },
  {
   "cell_type": "code",
   "execution_count": 93,
   "id": "d88dc8bc-22e5-4ddd-bc0d-79583d189b7e",
   "metadata": {},
   "outputs": [
    {
     "name": "stdout",
     "output_type": "stream",
     "text": [
      "\"A\"\t{\"value\":994,\"row_location\":[\"R\",\"P\"]}\n",
      "\"B\"\t{\"value\":999,\"row_location\":[\"N\"]}\n",
      "\"C\"\t{\"value\":987,\"row_location\":[\"S\"]}\n",
      "\"D\"\t{\"value\":995,\"row_location\":[\"M\"]}\n",
      "\"E\"\t{\"value\":998,\"row_location\":[\"N\",\"S\"]}\n",
      "\"F\"\t{\"value\":997,\"row_location\":[\"M\"]}\n",
      "\"G\"\t{\"value\":997,\"row_location\":[\"M\"]}\n",
      "\"H\"\t{\"value\":997,\"row_location\":[\"P\"]}\n",
      "\"I\"\t{\"value\":995,\"row_location\":[\"S\"]}\n",
      "\"J\"\t{\"value\":992,\"row_location\":[\"K\"]}\n",
      "\"K\"\t{\"value\":0,\"column_location\":[\"H\"]}\n",
      "\"L\"\t{\"value\":3,\"column_location\":[\"H\",\"B\"]}\n",
      "\"M\"\t{\"value\":0,\"column_location\":[\"E\"]}\n",
      "\"N\"\t{\"value\":13,\"column_location\":[\"B\"]}\n",
      "\"O\"\t{\"value\":1,\"column_location\":[\"H\"]}\n",
      "\"P\"\t{\"value\":12,\"column_location\":[\"B\"]}\n",
      "\"Q\"\t{\"value\":0,\"column_location\":[\"C\",\"G\"]}\n",
      "\"R\"\t{\"value\":2,\"column_location\":[\"F\"]}\n",
      "\"S\"\t{\"value\":5,\"column_location\":[\"I\"]}\n",
      "\"T\"\t{\"value\":2,\"column_location\":[\"G\"]}\n"
     ]
    },
    {
     "name": "stderr",
     "output_type": "stream",
     "text": [
      "No configs found; falling back on auto-configuration\n",
      "No configs specified for inline runner\n",
      "Creating temp directory C:\\Users\\rlars\\AppData\\Local\\Temp\\two_Dimensional_Array_TaskThree.rlars.20241006.223734.299951\n",
      "Running step 1 of 1...\n",
      "job output is in C:\\Users\\rlars\\AppData\\Local\\Temp\\two_Dimensional_Array_TaskThree.rlars.20241006.223734.299951\\output\n",
      "Streaming final output from C:\\Users\\rlars\\AppData\\Local\\Temp\\two_Dimensional_Array_TaskThree.rlars.20241006.223734.299951\\output...\n",
      "Removing temp directory C:\\Users\\rlars\\AppData\\Local\\Temp\\two_Dimensional_Array_TaskThree.rlars.20241006.223734.299951...\n"
     ]
    }
   ],
   "source": [
    "!python two_Dimensional_Array_TaskThree.py \"C:/Users/rlars/OneDrive/Desktop/BigData/Homework/Homework2/cs4650hw1.dat\""
   ]
  },
  {
   "cell_type": "code",
   "execution_count": null,
   "id": "e2d4b04d-a473-4789-8c23-d956e2d5d552",
   "metadata": {},
   "outputs": [],
   "source": []
  }
 ],
 "metadata": {
  "kernelspec": {
   "display_name": "Python 3 (ipykernel)",
   "language": "python",
   "name": "python3"
  },
  "language_info": {
   "codemirror_mode": {
    "name": "ipython",
    "version": 3
   },
   "file_extension": ".py",
   "mimetype": "text/x-python",
   "name": "python",
   "nbconvert_exporter": "python",
   "pygments_lexer": "ipython3",
   "version": "3.12.3"
  }
 },
 "nbformat": 4,
 "nbformat_minor": 5
}
