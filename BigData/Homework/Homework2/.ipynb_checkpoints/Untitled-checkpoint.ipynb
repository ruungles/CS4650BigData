{
 "cells": [
  {
   "cell_type": "code",
   "execution_count": 85,
   "id": "7bd26a70-62fe-4db0-b5cc-0d379f4c2dc7",
   "metadata": {},
   "outputs": [
    {
     "name": "stdout",
     "output_type": "stream",
     "text": [
      "Overwriting two_Dimensional_Array.py\n"
     ]
    }
   ],
   "source": [
    "%%file two_Dimensional_Array_TaskOne.py\n",
    "from mrjob.job import MRJob\n",
    "\n",
    "class Two_Dimensional(MRJob):\n",
    "\n",
    "    def mapper(self, _, line):\n",
    "        try:\n",
    "            column, row, value = line.split(',')\n",
    "            value = int(value)\n",
    "            yield column, ('col', value)  # Yield column data\n",
    "            yield row, ('row', value)      # Yield row data\n",
    "        except ValueError:\n",
    "            pass  # Skip malformed lines\n",
    "\n",
    "    def reducer(self, key, values):\n",
    "        max_value = None\n",
    "        min_value = None\n",
    "        \n",
    "        for value_type, value in values:\n",
    "            if value_type == 'col':\n",
    "                if max_value is None or value > max_value:\n",
    "                    max_value = value\n",
    "            elif value_type == 'row':\n",
    "                if min_value is None or value < min_value:\n",
    "                    min_value = value\n",
    "                    \n",
    "        if key[0] in 'ABCDEFGHIJ':\n",
    "            yield key, max_value\n",
    "        else:  # Rows should be K-T\n",
    "            yield key, min_value\n",
    "\n",
    "if __name__ == '__main__':\n",
    "    Two_Dimensional.run()\n",
    "\n"
   ]
  },
  {
   "cell_type": "code",
   "execution_count": 87,
   "id": "9e8785bc-ad6f-421b-8b3a-4f6d66d8c2d0",
   "metadata": {},
   "outputs": [
    {
     "name": "stdout",
     "output_type": "stream",
     "text": [
      "\"A\"\t994\n",
      "\"B\"\t999\n",
      "\"C\"\t987\n",
      "\"D\"\t995\n",
      "\"E\"\t998\n",
      "\"F\"\t997\n",
      "\"G\"\t997\n",
      "\"H\"\t997\n",
      "\"I\"\t995\n",
      "\"J\"\t992\n",
      "\"K\"\t0\n",
      "\"L\"\t3\n",
      "\"M\"\t0\n",
      "\"N\"\t13\n",
      "\"O\"\t1\n",
      "\"P\"\t12\n",
      "\"Q\"\t0\n",
      "\"R\"\t2\n",
      "\"S\"\t5\n",
      "\"T\"\t2\n"
     ]
    },
    {
     "name": "stderr",
     "output_type": "stream",
     "text": [
      "No configs found; falling back on auto-configuration\n",
      "No configs specified for inline runner\n",
      "Creating temp directory C:\\Users\\rlars\\AppData\\Local\\Temp\\two_Dimensional_Array.rlars.20241006.213617.680634\n",
      "Running step 1 of 1...\n",
      "job output is in C:\\Users\\rlars\\AppData\\Local\\Temp\\two_Dimensional_Array.rlars.20241006.213617.680634\\output\n",
      "Streaming final output from C:\\Users\\rlars\\AppData\\Local\\Temp\\two_Dimensional_Array.rlars.20241006.213617.680634\\output...\n",
      "Removing temp directory C:\\Users\\rlars\\AppData\\Local\\Temp\\two_Dimensional_Array.rlars.20241006.213617.680634...\n"
     ]
    }
   ],
   "source": [
    "!python two_Dimensional_Array.py \"C:/Users/rlars/OneDrive/Desktop/BigData/Homework/Homework2/cs4650hw1.dat\""
   ]
  },
  {
   "cell_type": "code",
   "execution_count": null,
   "id": "fb34401b-1a95-4848-bf43-aece9a975a6c",
   "metadata": {},
   "outputs": [],
   "source": [
    "%%file two_Dimensional_Array.py\n",
    "from mrjob.job import MRJob\n",
    "\n",
    "class Two_Dimensional(MRJob):\n",
    "\n",
    "    def mapper(self, _, line):\n",
    "        try:\n",
    "            column, row, value = line.split(',')\n",
    "            value = int(value)\n",
    "            yield column, ('col', value)  # Yield column data\n",
    "            yield row, ('row', value)      # Yield row data\n",
    "        except ValueError:\n",
    "            pass  # Skip malformed lines\n",
    "\n",
    "    def reducer(self, key, values):\n",
    "        max_value = None\n",
    "        min_value = None\n",
    "        \n",
    "        for value_type, value in values:\n",
    "            if value_type == 'col':\n",
    "                if max_value is None or value > max_value:\n",
    "                    max_value = value\n",
    "            elif value_type == 'row':\n",
    "                if min_value is None or value < min_value:\n",
    "                    min_value = value\n",
    "                    \n",
    "        if key[0] in 'ABCDEFGHIJ':\n",
    "            yield key, max_value\n",
    "        else:  # Rows should be K-T\n",
    "            yield key, min_value\n",
    "\n",
    "if __name__ == '__main__':\n",
    "    Two_Dimensional.run()\n"
   ]
  },
  {
   "cell_type": "code",
   "execution_count": null,
   "id": "48800c95-3a8d-4737-984c-fa86827eb2b5",
   "metadata": {},
   "outputs": [],
   "source": []
  }
 ],
 "metadata": {
  "kernelspec": {
   "display_name": "Python 3 (ipykernel)",
   "language": "python",
   "name": "python3"
  },
  "language_info": {
   "codemirror_mode": {
    "name": "ipython",
    "version": 3
   },
   "file_extension": ".py",
   "mimetype": "text/x-python",
   "name": "python",
   "nbconvert_exporter": "python",
   "pygments_lexer": "ipython3",
   "version": "3.12.3"
  }
 },
 "nbformat": 4,
 "nbformat_minor": 5
}
