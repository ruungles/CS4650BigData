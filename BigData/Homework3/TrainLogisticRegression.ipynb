{
 "cells": [
  {
   "cell_type": "markdown",
   "id": "eb28ca86-ce1e-4df8-8185-cc13b391ed7e",
   "metadata": {},
   "source": [
    "Importing Libraries:\n",
    "\n",
    "-Pandas\n",
    "\n",
    "-Sklearn\n",
    "\n",
    "-Scikit\n",
    "\n",
    "-Numpy"
   ]
  },
  {
   "cell_type": "code",
   "execution_count": 100,
   "id": "f3e02b43-c32c-4d14-bc7d-1ac3712f9aa4",
   "metadata": {},
   "outputs": [],
   "source": [
    "import pandas as pd\n",
    "from sklearn.model_selection import KFold\n",
    "from sklearn.linear_model import LogisticRegression\n",
    "from sklearn.metrics import accuracy_score\n",
    "import numpy as np"
   ]
  },
  {
   "cell_type": "markdown",
   "id": "0cb328bc-0a14-4e04-9736-88a526ea44b3",
   "metadata": {},
   "source": [
    "Creating Dataframe as `dataFrame`"
   ]
  },
  {
   "cell_type": "code",
   "execution_count": 103,
   "id": "536dc6dc-e3da-431a-b121-bb8467ddcb1c",
   "metadata": {},
   "outputs": [
    {
     "name": "stdout",
     "output_type": "stream",
     "text": [
      "<class 'pandas.core.frame.DataFrame'>\n",
      "RangeIndex: 38759 entries, 0 to 38758\n",
      "Data columns (total 23 columns):\n",
      " #   Column    Non-Null Count  Dtype  \n",
      "---  ------    --------------  -----  \n",
      " 0   FIRM      38759 non-null  int64  \n",
      " 1   class     38759 non-null  int64  \n",
      " 2   Start     38759 non-null  int64  \n",
      " 3   End       38759 non-null  int64  \n",
      " 4   Length    38759 non-null  int64  \n",
      " 5   Night     38759 non-null  int64  \n",
      " 6   Gap       38759 non-null  int64  \n",
      " 7   WS        38759 non-null  int64  \n",
      " 8   idx       38759 non-null  int64  \n",
      " 9   Base      38759 non-null  float64\n",
      " 10  StartAdj  38759 non-null  float64\n",
      " 11  LenAdj    38759 non-null  float64\n",
      " 12  Comp      38759 non-null  float64\n",
      " 13  Trans     38759 non-null  float64\n",
      " 14  Press     38759 non-null  float64\n",
      " 15  p1s       38759 non-null  int64  \n",
      " 16  p1l       38759 non-null  int64  \n",
      " 17  p2s       38759 non-null  int64  \n",
      " 18  p2l       38759 non-null  int64  \n",
      " 19  MalAdj    38759 non-null  int64  \n",
      " 20  NFZ       38759 non-null  int64  \n",
      " 21  AFZ       38759 non-null  int64  \n",
      " 22  MFZ       38759 non-null  int64  \n",
      "dtypes: float64(6), int64(17)\n",
      "memory usage: 6.8 MB\n"
     ]
    }
   ],
   "source": [
    "dataFrame = pd.read_csv('FRAFirm.csv')\n",
    "dataFrame.info()"
   ]
  },
  {
   "cell_type": "markdown",
   "id": "f91d4177-e469-4b23-bc7a-c343b82091e0",
   "metadata": {},
   "source": [
    "Creating a K Fold Cross Validation as `kfold`"
   ]
  },
  {
   "cell_type": "code",
   "execution_count": 106,
   "id": "a96581bc-d3ec-4bc4-b020-6cef27fe335e",
   "metadata": {},
   "outputs": [],
   "source": [
    "kfold = KFold(n_splits = 10, shuffle = True, random_state=42)\n",
    "model = LogisticRegression(max_iter=200)\n",
    "accuracy_scores = []"
   ]
  },
  {
   "cell_type": "markdown",
   "id": "7ad6e635-924d-48d5-a2b3-b904d685636c",
   "metadata": {},
   "source": [
    "Seperating column `class` from the dataset to create the `y` series "
   ]
  },
  {
   "cell_type": "code",
   "execution_count": 109,
   "id": "36b60e05-2929-4053-81e2-9d109fddb868",
   "metadata": {},
   "outputs": [
    {
     "name": "stdout",
     "output_type": "stream",
     "text": [
      "<class 'pandas.core.frame.DataFrame'>\n",
      "RangeIndex: 38759 entries, 0 to 38758\n",
      "Data columns (total 22 columns):\n",
      " #   Column    Non-Null Count  Dtype  \n",
      "---  ------    --------------  -----  \n",
      " 0   FIRM      38759 non-null  int64  \n",
      " 1   Start     38759 non-null  int64  \n",
      " 2   End       38759 non-null  int64  \n",
      " 3   Length    38759 non-null  int64  \n",
      " 4   Night     38759 non-null  int64  \n",
      " 5   Gap       38759 non-null  int64  \n",
      " 6   WS        38759 non-null  int64  \n",
      " 7   idx       38759 non-null  int64  \n",
      " 8   Base      38759 non-null  float64\n",
      " 9   StartAdj  38759 non-null  float64\n",
      " 10  LenAdj    38759 non-null  float64\n",
      " 11  Comp      38759 non-null  float64\n",
      " 12  Trans     38759 non-null  float64\n",
      " 13  Press     38759 non-null  float64\n",
      " 14  p1s       38759 non-null  int64  \n",
      " 15  p1l       38759 non-null  int64  \n",
      " 16  p2s       38759 non-null  int64  \n",
      " 17  p2l       38759 non-null  int64  \n",
      " 18  MalAdj    38759 non-null  int64  \n",
      " 19  NFZ       38759 non-null  int64  \n",
      " 20  AFZ       38759 non-null  int64  \n",
      " 21  MFZ       38759 non-null  int64  \n",
      "dtypes: float64(6), int64(16)\n",
      "memory usage: 6.5 MB\n",
      "<class 'pandas.core.series.Series'>\n",
      "RangeIndex: 38759 entries, 0 to 38758\n",
      "Series name: class\n",
      "Non-Null Count  Dtype\n",
      "--------------  -----\n",
      "38759 non-null  int64\n",
      "dtypes: int64(1)\n",
      "memory usage: 302.9 KB\n"
     ]
    }
   ],
   "source": [
    "y = dataFrame['class']\n",
    "X = dataFrame[[col for col in dataFrame.columns if col != 'class']]\n",
    "X.info()\n",
    "y.info()"
   ]
  },
  {
   "cell_type": "markdown",
   "id": "3801ac38-a4e2-4b47-9576-e2757d501102",
   "metadata": {},
   "source": [
    "Create the K number of Folds and start cross validation to find coefficients for dataset"
   ]
  },
  {
   "cell_type": "code",
   "execution_count": 112,
   "id": "cde35a49-c21b-46f7-8e5a-5878d912149d",
   "metadata": {},
   "outputs": [
    {
     "name": "stderr",
     "output_type": "stream",
     "text": [
      "A:\\Anaconda\\Lib\\site-packages\\sklearn\\linear_model\\_logistic.py:469: ConvergenceWarning: lbfgs failed to converge (status=1):\n",
      "STOP: TOTAL NO. of ITERATIONS REACHED LIMIT.\n",
      "\n",
      "Increase the number of iterations (max_iter) or scale the data as shown in:\n",
      "    https://scikit-learn.org/stable/modules/preprocessing.html\n",
      "Please also refer to the documentation for alternative solver options:\n",
      "    https://scikit-learn.org/stable/modules/linear_model.html#logistic-regression\n",
      "  n_iter_i = _check_optimize_result(\n",
      "A:\\Anaconda\\Lib\\site-packages\\sklearn\\linear_model\\_logistic.py:469: ConvergenceWarning: lbfgs failed to converge (status=1):\n",
      "STOP: TOTAL NO. of ITERATIONS REACHED LIMIT.\n",
      "\n",
      "Increase the number of iterations (max_iter) or scale the data as shown in:\n",
      "    https://scikit-learn.org/stable/modules/preprocessing.html\n",
      "Please also refer to the documentation for alternative solver options:\n",
      "    https://scikit-learn.org/stable/modules/linear_model.html#logistic-regression\n",
      "  n_iter_i = _check_optimize_result(\n",
      "A:\\Anaconda\\Lib\\site-packages\\sklearn\\linear_model\\_logistic.py:469: ConvergenceWarning: lbfgs failed to converge (status=1):\n",
      "STOP: TOTAL NO. of ITERATIONS REACHED LIMIT.\n",
      "\n",
      "Increase the number of iterations (max_iter) or scale the data as shown in:\n",
      "    https://scikit-learn.org/stable/modules/preprocessing.html\n",
      "Please also refer to the documentation for alternative solver options:\n",
      "    https://scikit-learn.org/stable/modules/linear_model.html#logistic-regression\n",
      "  n_iter_i = _check_optimize_result(\n",
      "A:\\Anaconda\\Lib\\site-packages\\sklearn\\linear_model\\_logistic.py:469: ConvergenceWarning: lbfgs failed to converge (status=1):\n",
      "STOP: TOTAL NO. of ITERATIONS REACHED LIMIT.\n",
      "\n",
      "Increase the number of iterations (max_iter) or scale the data as shown in:\n",
      "    https://scikit-learn.org/stable/modules/preprocessing.html\n",
      "Please also refer to the documentation for alternative solver options:\n",
      "    https://scikit-learn.org/stable/modules/linear_model.html#logistic-regression\n",
      "  n_iter_i = _check_optimize_result(\n",
      "A:\\Anaconda\\Lib\\site-packages\\sklearn\\linear_model\\_logistic.py:469: ConvergenceWarning: lbfgs failed to converge (status=1):\n",
      "STOP: TOTAL NO. of ITERATIONS REACHED LIMIT.\n",
      "\n",
      "Increase the number of iterations (max_iter) or scale the data as shown in:\n",
      "    https://scikit-learn.org/stable/modules/preprocessing.html\n",
      "Please also refer to the documentation for alternative solver options:\n",
      "    https://scikit-learn.org/stable/modules/linear_model.html#logistic-regression\n",
      "  n_iter_i = _check_optimize_result(\n",
      "A:\\Anaconda\\Lib\\site-packages\\sklearn\\linear_model\\_logistic.py:469: ConvergenceWarning: lbfgs failed to converge (status=1):\n",
      "STOP: TOTAL NO. of ITERATIONS REACHED LIMIT.\n",
      "\n",
      "Increase the number of iterations (max_iter) or scale the data as shown in:\n",
      "    https://scikit-learn.org/stable/modules/preprocessing.html\n",
      "Please also refer to the documentation for alternative solver options:\n",
      "    https://scikit-learn.org/stable/modules/linear_model.html#logistic-regression\n",
      "  n_iter_i = _check_optimize_result(\n",
      "A:\\Anaconda\\Lib\\site-packages\\sklearn\\linear_model\\_logistic.py:469: ConvergenceWarning: lbfgs failed to converge (status=1):\n",
      "STOP: TOTAL NO. of ITERATIONS REACHED LIMIT.\n",
      "\n",
      "Increase the number of iterations (max_iter) or scale the data as shown in:\n",
      "    https://scikit-learn.org/stable/modules/preprocessing.html\n",
      "Please also refer to the documentation for alternative solver options:\n",
      "    https://scikit-learn.org/stable/modules/linear_model.html#logistic-regression\n",
      "  n_iter_i = _check_optimize_result(\n",
      "A:\\Anaconda\\Lib\\site-packages\\sklearn\\linear_model\\_logistic.py:469: ConvergenceWarning: lbfgs failed to converge (status=1):\n",
      "STOP: TOTAL NO. of ITERATIONS REACHED LIMIT.\n",
      "\n",
      "Increase the number of iterations (max_iter) or scale the data as shown in:\n",
      "    https://scikit-learn.org/stable/modules/preprocessing.html\n",
      "Please also refer to the documentation for alternative solver options:\n",
      "    https://scikit-learn.org/stable/modules/linear_model.html#logistic-regression\n",
      "  n_iter_i = _check_optimize_result(\n",
      "A:\\Anaconda\\Lib\\site-packages\\sklearn\\linear_model\\_logistic.py:469: ConvergenceWarning: lbfgs failed to converge (status=1):\n",
      "STOP: TOTAL NO. of ITERATIONS REACHED LIMIT.\n",
      "\n",
      "Increase the number of iterations (max_iter) or scale the data as shown in:\n",
      "    https://scikit-learn.org/stable/modules/preprocessing.html\n",
      "Please also refer to the documentation for alternative solver options:\n",
      "    https://scikit-learn.org/stable/modules/linear_model.html#logistic-regression\n",
      "  n_iter_i = _check_optimize_result(\n",
      "A:\\Anaconda\\Lib\\site-packages\\sklearn\\linear_model\\_logistic.py:469: ConvergenceWarning: lbfgs failed to converge (status=1):\n",
      "STOP: TOTAL NO. of ITERATIONS REACHED LIMIT.\n",
      "\n",
      "Increase the number of iterations (max_iter) or scale the data as shown in:\n",
      "    https://scikit-learn.org/stable/modules/preprocessing.html\n",
      "Please also refer to the documentation for alternative solver options:\n",
      "    https://scikit-learn.org/stable/modules/linear_model.html#logistic-regression\n",
      "  n_iter_i = _check_optimize_result(\n"
     ]
    }
   ],
   "source": [
    "for train_index, test_index in kfold.split(X):\n",
    "    X_train, X_test = X.iloc[train_index], X.iloc[test_index]\n",
    "    y_train, y_test = y.iloc[train_index], y.iloc[test_index]\n",
    "\n",
    "    model.fit(X_train, y_train)\n",
    "    y_pred = model.predict(X_test)\n",
    "\n",
    "    accuracy = accuracy_score(y_test, y_pred)\n",
    "    accuracy_scores.append(accuracy)"
   ]
  },
  {
   "cell_type": "code",
   "execution_count": 114,
   "id": "06f13744-cc26-47b4-a2dc-a97c775d1578",
   "metadata": {},
   "outputs": [
    {
     "name": "stdout",
     "output_type": "stream",
     "text": [
      "Average Accuracy: 0.93\n"
     ]
    }
   ],
   "source": [
    "average_accuracy = np.mean(accuracy_scores)\n",
    "print(f'Average Accuracy: {average_accuracy:.2f}')"
   ]
  },
  {
   "cell_type": "code",
   "execution_count": null,
   "id": "524e55f6-f72b-4f16-82e3-9fb68a1abbec",
   "metadata": {},
   "outputs": [],
   "source": []
  }
 ],
 "metadata": {
  "kernelspec": {
   "display_name": "Python 3 (ipykernel)",
   "language": "python",
   "name": "python3"
  },
  "language_info": {
   "codemirror_mode": {
    "name": "ipython",
    "version": 3
   },
   "file_extension": ".py",
   "mimetype": "text/x-python",
   "name": "python",
   "nbconvert_exporter": "python",
   "pygments_lexer": "ipython3",
   "version": "3.12.4"
  }
 },
 "nbformat": 4,
 "nbformat_minor": 5
}
